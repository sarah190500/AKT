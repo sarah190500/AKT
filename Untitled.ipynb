{
 "cells": [
  {
   "cell_type": "code",
   "execution_count": 75,
   "id": "866ce163-c630-48ca-98ee-b797d3107c23",
   "metadata": {},
   "outputs": [],
   "source": [
    "import tensorflow as tf\n",
    "import os\n",
    "import numpy as np\n",
    "import matplotlib.pylab as plt"
   ]
  },
  {
   "cell_type": "code",
   "execution_count": 59,
   "id": "e6a5f005-b0e3-4625-b5a5-0e82515ca9b1",
   "metadata": {},
   "outputs": [],
   "source": [
    "IMG_HEIGHT, IMG_WIDTH = 224, 224\n",
    "batch_size = 32\n",
    "\n",
    "# dataset that lists all image files in the direct subfolders of example_training_data\n",
    "image_files = tf.data.Dataset.list_files([f\"./training_data/*/*{t}\" for t in [\"jpeg\", \"jpg\", \"png\"]])\n",
    "\n",
    "\n",
    "def load_and_preprocess_image(path):\n",
    "    # Load the image\n",
    "    image = tf.io.decode_image(\n",
    "        tf.io.read_file(path),\n",
    "        channels=3, dtype=tf.float32, expand_animations=False)\n",
    "    image = tf.image.resize(image, size=[IMG_HEIGHT, IMG_WIDTH])    \n",
    "\n",
    "    # Random data augmentation\n",
    "    image = tf.image.random_flip_left_right(image)\n",
    "    # see here for more data augmentation option\n",
    "    # https://www.tensorflow.org/api_docs/python/tf/image/\n",
    "\n",
    "    return image\n",
    "\n",
    "def extract_label_from_path(path):\n",
    "    # Extract the first subfolder name as the label\n",
    "    label = tf.strings.split(path, os.sep)[-2]        \n",
    "    return label_to_int(label)\n",
    "    \n",
    "label_to_int = tf.keras.layers.StringLookup(\n",
    "    vocabulary=[b\"water\", b\"fire\"],\n",
    "    output_mode=\"one_hot\",\n",
    "    num_oov_indices=0)\n",
    "training_data = image_files.map(lambda x: (load_and_preprocess_image(x), extract_label_from_path(x)))\n",
    "#training_data = training_data.batch(batch_size)"
   ]
  },
  {
   "cell_type": "code",
   "execution_count": 69,
   "id": "465009d7-3795-459c-b82f-03864c48918d",
   "metadata": {},
   "outputs": [
    {
     "name": "stdout",
     "output_type": "stream",
     "text": [
      "25\n"
     ]
    }
   ],
   "source": [
    "# Total number of images in your dataset\n",
    "num_images = len(image_files)\n",
    "print(num_images)\n",
    "# Calculate the split sizes\n",
    "train_size = int(0.8 * num_images)\n",
    "val_size = num_images - train_size\n",
    "\n",
    "# Shuffle and split the dataset\n",
    "full_dataset = training_data.shuffle(buffer_size=num_images)\n",
    "\n",
    "# Create training dataset (80% of the data)\n",
    "train_dataset = full_dataset.take(train_size)\n",
    "train_dataset = train_dataset.repeat()  # Repeat to continue the iteration\n",
    "\n",
    "# Create validation dataset (20% of the data)\n",
    "val_dataset = full_dataset.skip(train_size)\n",
    "val_dataset = val_dataset.repeat()  # Repeat to continue the iteration\n",
    "\n",
    "# Set batch size for both datasets\n",
    "#training_data = train_dataset.batch(batch_size)\n",
    "#validation_data = val_dataset.batch(batch_size)"
   ]
  },
  {
   "cell_type": "code",
   "execution_count": 81,
   "id": "138f8d81-eea8-4c1b-80a1-895070e131c5",
   "metadata": {},
   "outputs": [],
   "source": [
    "IMG_HEIGHT, IMG_WIDTH = 224, 224\n",
    "batch_size = 32\n",
    "\n",
    "# dataset that lists all image files in the direct subfolders of example_training_data\n",
    "image_files = tf.data.Dataset.list_files([f\"./training_data/*/*{t}\" for t in [\"jpeg\", \"jpg\", \"png\"]])\n",
    "\n",
    "\n",
    "def load_and_preprocess_image(path):\n",
    "    # Load the image\n",
    "    image = tf.io.decode_image(\n",
    "        tf.io.read_file(path),\n",
    "        channels=3, dtype=tf.float32, expand_animations=False)\n",
    "    image = tf.image.resize(image, size=[IMG_HEIGHT, IMG_WIDTH])    \n",
    "\n",
    "    # Random data augmentation\n",
    "    image = tf.image.random_flip_left_right(image)\n",
    "    # see here for more data augmentation option\n",
    "    # https://www.tensorflow.org/api_docs/python/tf/image/\n",
    "\n",
    "    return image\n",
    "\n",
    "def extract_label_from_path(path):\n",
    "    # Extract the first subfolder name as the label\n",
    "    label = tf.strings.split(path, os.sep)[-2]        \n",
    "    return label_to_int(label)\n",
    "    \n",
    "label_to_int = tf.keras.layers.StringLookup(\n",
    "    vocabulary=[b\"water\", b\"fire\"],\n",
    "    output_mode=\"one_hot\",\n",
    "    num_oov_indices=0)\n",
    "\n",
    "image_files_list = [file_path.numpy().decode(\"utf-8\") for file_path in image_files]\n",
    "\n",
    "# Calculate the split sizes\n",
    "num_images = len(image_files_list)\n",
    "train_size = int(0.8 * num_images)\n",
    "val_size = num_images - train_size\n",
    "\n",
    "# Shuffle the dataset paths (if needed)\n",
    "tf.random.shuffle(image_files_list)\n",
    "\n",
    "# Create TensorFlow datasets from lists\n",
    "train_dataset = tf.data.Dataset.from_tensor_slices(image_files_list[:train_size])\n",
    "val_dataset = tf.data.Dataset.from_tensor_slices(image_files_list[train_size:])\n",
    "\n",
    "training_data = train_dataset.map(lambda x: (load_and_preprocess_image(x), extract_label_from_path(x)))\n",
    "validation_data = val_dataset.map(lambda x: (load_and_preprocess_image(x), extract_label_from_path(x)))\n",
    "\n",
    "training_data = training_data.batch(batch_size)\n",
    "validation_data = validation_data.batch(batch_size)\n"
   ]
  },
  {
   "cell_type": "code",
   "execution_count": 79,
   "id": "e6fa5783-ea83-4f13-805a-933316caa9e7",
   "metadata": {},
   "outputs": [
    {
     "name": "stdout",
     "output_type": "stream",
     "text": [
      "Found 25 files belonging to 2 classes.\n",
      "Using 20 files for training.\n",
      "Using 5 files for validation.\n"
     ]
    }
   ],
   "source": [
    "train_dir = \"./training_data\"\n",
    "IMG_HEIGHT, IMG_WIDTH = 224, 224\n",
    "batch_size = 32\n",
    "\n",
    "def scale_image(img):\n",
    "    return img / 255.0\n",
    "\n",
    "def to_one_hot(label):\n",
    "    return tf.one_hot(label, depth=2)\n",
    "\n",
    "(training_data, validation_data) = tf.keras.utils.image_dataset_from_directory(\n",
    "  train_dir,\n",
    "  validation_split=0.2,\n",
    "  subset=\"both\",\n",
    "  labels='inferred',  \n",
    "  seed=123,\n",
    "  image_size=(IMG_HEIGHT, IMG_WIDTH),\n",
    "  batch_size=batch_size)"
   ]
  },
  {
   "cell_type": "code",
   "execution_count": 80,
   "id": "e02f35b1-d307-47d8-ae31-547dd140d637",
   "metadata": {},
   "outputs": [
    {
     "ename": "TypeError",
     "evalue": "Cannot iterate over a scalar tensor.",
     "output_type": "error",
     "traceback": [
      "\u001b[0;31m---------------------------------------------------------------------------\u001b[0m",
      "\u001b[0;31mTypeError\u001b[0m                                 Traceback (most recent call last)",
      "Cell \u001b[0;32mIn[80], line 1\u001b[0m\n\u001b[0;32m----> 1\u001b[0m \u001b[38;5;28;01mfor\u001b[39;00m img, label \u001b[38;5;129;01min\u001b[39;00m val_dataset\u001b[38;5;241m.\u001b[39mtake(\u001b[38;5;241m1\u001b[39m):\n\u001b[1;32m      2\u001b[0m     \u001b[38;5;28;01mfor\u001b[39;00m i \u001b[38;5;129;01min\u001b[39;00m \u001b[38;5;28mrange\u001b[39m(img\u001b[38;5;241m.\u001b[39mshape[\u001b[38;5;241m0\u001b[39m]):\n\u001b[1;32m      3\u001b[0m         plt\u001b[38;5;241m.\u001b[39mfigure()\n",
      "File \u001b[0;32m/opt/conda/lib/python3.11/site-packages/tensorflow/python/framework/tensor.py:326\u001b[0m, in \u001b[0;36mTensor.__iter__\u001b[0;34m(self)\u001b[0m\n\u001b[1;32m    323\u001b[0m \u001b[38;5;28;01mif\u001b[39;00m \u001b[38;5;129;01mnot\u001b[39;00m context\u001b[38;5;241m.\u001b[39mexecuting_eagerly():\n\u001b[1;32m    324\u001b[0m   \u001b[38;5;28mself\u001b[39m\u001b[38;5;241m.\u001b[39m_disallow_iteration()\n\u001b[0;32m--> 326\u001b[0m first_dim \u001b[38;5;241m=\u001b[39m \u001b[38;5;28;43mself\u001b[39;49m\u001b[38;5;241;43m.\u001b[39;49m\u001b[43m_get_first_dim\u001b[49m\u001b[43m(\u001b[49m\u001b[43m)\u001b[49m\n\u001b[1;32m    327\u001b[0m \u001b[38;5;28;01mreturn\u001b[39;00m _TensorIterator(\u001b[38;5;28mself\u001b[39m, first_dim)\n",
      "File \u001b[0;32m/opt/conda/lib/python3.11/site-packages/tensorflow/python/framework/tensor.py:334\u001b[0m, in \u001b[0;36mTensor._get_first_dim\u001b[0;34m(self)\u001b[0m\n\u001b[1;32m    332\u001b[0m   \u001b[38;5;28;01mraise\u001b[39;00m \u001b[38;5;167;01mTypeError\u001b[39;00m(\u001b[38;5;124m\"\u001b[39m\u001b[38;5;124mCannot iterate over a tensor with unknown shape.\u001b[39m\u001b[38;5;124m\"\u001b[39m)\n\u001b[1;32m    333\u001b[0m \u001b[38;5;28;01mif\u001b[39;00m \u001b[38;5;129;01mnot\u001b[39;00m shape:\n\u001b[0;32m--> 334\u001b[0m   \u001b[38;5;28;01mraise\u001b[39;00m \u001b[38;5;167;01mTypeError\u001b[39;00m(\u001b[38;5;124m\"\u001b[39m\u001b[38;5;124mCannot iterate over a scalar tensor.\u001b[39m\u001b[38;5;124m\"\u001b[39m)\n\u001b[1;32m    335\u001b[0m \u001b[38;5;28;01mif\u001b[39;00m shape[\u001b[38;5;241m0\u001b[39m] \u001b[38;5;129;01mis\u001b[39;00m \u001b[38;5;28;01mNone\u001b[39;00m:\n\u001b[1;32m    336\u001b[0m   \u001b[38;5;28;01mraise\u001b[39;00m \u001b[38;5;167;01mTypeError\u001b[39;00m(\n\u001b[1;32m    337\u001b[0m       \u001b[38;5;124m\"\u001b[39m\u001b[38;5;124mCannot iterate over a tensor with unknown first dimension.\u001b[39m\u001b[38;5;124m\"\u001b[39m)\n",
      "\u001b[0;31mTypeError\u001b[0m: Cannot iterate over a scalar tensor."
     ]
    }
   ],
   "source": [
    "for img, label in validation_dataset.take(1):\n",
    "    for i in range(img.shape[0]):\n",
    "        plt.figure()\n",
    "        plt.title(str(label[i]))\n",
    "        plt.imshow(img[i, ...])"
   ]
  },
  {
   "cell_type": "code",
   "execution_count": 25,
   "id": "df9ad07a-f7aa-4212-8ab9-8f124f9992cd",
   "metadata": {},
   "outputs": [
    {
     "name": "stdout",
     "output_type": "stream",
     "text": [
      "Model: \"sequential\"\n",
      "_________________________________________________________________\n",
      " Layer (type)                Output Shape              Param #   \n",
      "=================================================================\n",
      " conv2d (Conv2D)             (None, 220, 220, 16)      1216      \n",
      "                                                                 \n",
      " max_pooling2d (MaxPooling2  (None, 110, 110, 16)      0         \n",
      " D)                                                              \n",
      "                                                                 \n",
      " conv2d_1 (Conv2D)           (None, 106, 106, 32)      12832     \n",
      "                                                                 \n",
      " max_pooling2d_1 (MaxPoolin  (None, 53, 53, 32)        0         \n",
      " g2D)                                                            \n",
      "                                                                 \n",
      " conv2d_2 (Conv2D)           (None, 51, 51, 64)        18496     \n",
      "                                                                 \n",
      " max_pooling2d_2 (MaxPoolin  (None, 25, 25, 64)        0         \n",
      " g2D)                                                            \n",
      "                                                                 \n",
      " conv2d_3 (Conv2D)           (None, 23, 23, 128)       73856     \n",
      "                                                                 \n",
      " max_pooling2d_3 (MaxPoolin  (None, 11, 11, 128)       0         \n",
      " g2D)                                                            \n",
      "                                                                 \n",
      " conv2d_4 (Conv2D)           (None, 9, 9, 256)         295168    \n",
      "                                                                 \n",
      " max_pooling2d_4 (MaxPoolin  (None, 4, 4, 256)         0         \n",
      " g2D)                                                            \n",
      "                                                                 \n",
      " flatten (Flatten)           (None, 4096)              0         \n",
      "                                                                 \n",
      " dense (Dense)               (None, 128)               524416    \n",
      "                                                                 \n",
      " dense_1 (Dense)             (None, 2)                 258       \n",
      "                                                                 \n",
      "=================================================================\n",
      "Total params: 926242 (3.53 MB)\n",
      "Trainable params: 926242 (3.53 MB)\n",
      "Non-trainable params: 0 (0.00 Byte)\n",
      "_________________________________________________________________\n"
     ]
    }
   ],
   "source": [
    "IMG_HEIGHT, IMG_WIDTH = 224, 224\n",
    "model = tf.keras.models.Sequential([\n",
    "    tf.keras.layers.Input(shape=(IMG_HEIGHT, IMG_WIDTH, 3)),\n",
    "\n",
    "    tf.keras.layers.Convolution2D(filters=16, kernel_size=(5,5)),\n",
    "    tf.keras.layers.MaxPooling2D(pool_size=(2,2), strides=(2,2)),\n",
    "\n",
    "    tf.keras.layers.Convolution2D(filters=32, kernel_size=(5,5)),\n",
    "    tf.keras.layers.MaxPooling2D(pool_size=(2,2), strides=(2,2)),\n",
    "    \n",
    "    tf.keras.layers.Convolution2D(filters=64, kernel_size=(3,3)),\n",
    "    tf.keras.layers.MaxPooling2D(pool_size=(2,2), strides=(2,2)),\n",
    "    \n",
    "    tf.keras.layers.Convolution2D(filters=128, kernel_size=(3,3)),\n",
    "    tf.keras.layers.MaxPooling2D(pool_size=(2,2), strides=(2,2)),\n",
    "\n",
    "    tf.keras.layers.Convolution2D(filters=256, kernel_size=(3,3)),\n",
    "    tf.keras.layers.MaxPooling2D(pool_size=(2,2), strides=(2,2)),\n",
    "\n",
    "    tf.keras.layers.Flatten(),\n",
    "            \n",
    "    tf.keras.layers.Dense(128, activation='relu'),            \n",
    "    tf.keras.layers.Dense(2, activation='softmax')\n",
    "])\n",
    "\n",
    "model.summary()"
   ]
  },
  {
   "cell_type": "code",
   "execution_count": 16,
   "id": "b3b3788e-30d7-4bfa-990b-ceed0ea3fff9",
   "metadata": {},
   "outputs": [],
   "source": [
    "data_augmentation = tf.keras.Sequential([\n",
    "    tf.keras.layers.RandomFlip(\"horizontal\"),\n",
    "    tf.keras.layers.RandomRotation(0.1),\n",
    "    tf.keras.layers.RandomZoom(0.1),\n",
    "\n",
    "])"
   ]
  },
  {
   "cell_type": "code",
   "execution_count": 17,
   "id": "43aff0a3-68f5-426c-884c-d2a7e1a5e079",
   "metadata": {},
   "outputs": [],
   "source": [
    "data_preprocessing = tf.keras.Sequential([\n",
    "    tf.keras.layers.Rescaling(1./255),\n",
    "    tf.keras.layers.Resizing(IMG_HEIGHT, IMG_WIDTH),\n",
    "])"
   ]
  },
  {
   "cell_type": "code",
   "execution_count": 18,
   "id": "4e25b8ab-a3cc-49ac-a374-c61e1a0c0f55",
   "metadata": {},
   "outputs": [],
   "source": [
    "model = tf.keras.Sequential([\n",
    "  data_preprocessing,\n",
    "  data_augmentation,\n",
    "  tf.keras.layers.Conv2D(16, 3, padding='same', activation='relu'),\n",
    "  tf.keras.layers.MaxPooling2D(),\n",
    "  # Rest of your model.\n",
    "    tf.keras.layers.Input(shape=(IMG_HEIGHT, IMG_WIDTH, 3)),\n",
    "\n",
    "    tf.keras.layers.Convolution2D(filters=16, kernel_size=(5,5)),\n",
    "    tf.keras.layers.MaxPooling2D(pool_size=(2,2), strides=(2,2)),\n",
    "\n",
    "    tf.keras.layers.Convolution2D(filters=32, kernel_size=(5,5)),\n",
    "    tf.keras.layers.MaxPooling2D(pool_size=(2,2), strides=(2,2)),\n",
    "    \n",
    "    tf.keras.layers.Convolution2D(filters=64, kernel_size=(3,3)),\n",
    "    tf.keras.layers.MaxPooling2D(pool_size=(2,2), strides=(2,2)),\n",
    "    \n",
    "    tf.keras.layers.Convolution2D(filters=128, kernel_size=(3,3)),\n",
    "    tf.keras.layers.MaxPooling2D(pool_size=(2,2), strides=(2,2)),\n",
    "\n",
    "    tf.keras.layers.Convolution2D(filters=256, kernel_size=(3,3)),\n",
    "    tf.keras.layers.MaxPooling2D(pool_size=(2,2), strides=(2,2)),\n",
    "\n",
    "    tf.keras.layers.Flatten(),\n",
    "            \n",
    "    tf.keras.layers.Dense(128, activation='relu'),            \n",
    "    tf.keras.layers.Dense(2, activation='softmax')\n",
    "])\n"
   ]
  },
  {
   "cell_type": "code",
   "execution_count": 19,
   "id": "646c915c-b1c1-4a8b-b804-7d4228ba5697",
   "metadata": {},
   "outputs": [],
   "source": [
    "model.compile(optimizer='adam',\n",
    "              loss=tf.keras.losses.CategoricalCrossentropy(from_logits=False),\n",
    "              metrics=['accuracy'])"
   ]
  },
  {
   "cell_type": "code",
   "execution_count": 23,
   "id": "1f721dde-1112-470d-9492-b27e91139880",
   "metadata": {},
   "outputs": [
    {
     "name": "stdout",
     "output_type": "stream",
     "text": [
      "Epoch 1/30\n",
      "1/1 [==============================] - 0s 280ms/step - loss: 0.6275 - accuracy: 0.5200\n",
      "Epoch 2/30\n",
      "1/1 [==============================] - 0s 284ms/step - loss: 0.6657 - accuracy: 0.5200\n",
      "Epoch 3/30\n",
      "1/1 [==============================] - 0s 264ms/step - loss: 0.5858 - accuracy: 0.6000\n",
      "Epoch 4/30\n",
      "1/1 [==============================] - 0s 266ms/step - loss: 0.6023 - accuracy: 0.8400\n",
      "Epoch 5/30\n",
      "1/1 [==============================] - 0s 270ms/step - loss: 0.5970 - accuracy: 0.6400\n",
      "Epoch 6/30\n",
      "1/1 [==============================] - 0s 260ms/step - loss: 0.5692 - accuracy: 0.6400\n",
      "Epoch 7/30\n",
      "1/1 [==============================] - 0s 264ms/step - loss: 0.4785 - accuracy: 0.9200\n",
      "Epoch 8/30\n",
      "1/1 [==============================] - 0s 254ms/step - loss: 0.5627 - accuracy: 0.6000\n",
      "Epoch 9/30\n",
      "1/1 [==============================] - 0s 244ms/step - loss: 0.3950 - accuracy: 0.8800\n",
      "Epoch 10/30\n",
      "1/1 [==============================] - 0s 318ms/step - loss: 0.4528 - accuracy: 0.6800\n",
      "Epoch 11/30\n",
      "1/1 [==============================] - 0s 317ms/step - loss: 0.4343 - accuracy: 0.7200\n",
      "Epoch 12/30\n",
      "1/1 [==============================] - 0s 264ms/step - loss: 0.2387 - accuracy: 0.8800\n",
      "Epoch 13/30\n",
      "1/1 [==============================] - 0s 259ms/step - loss: 0.5127 - accuracy: 0.6800\n",
      "Epoch 14/30\n",
      "1/1 [==============================] - 0s 273ms/step - loss: 0.3270 - accuracy: 0.8400\n",
      "Epoch 15/30\n",
      "1/1 [==============================] - 0s 264ms/step - loss: 0.3391 - accuracy: 0.8400\n",
      "Epoch 16/30\n",
      "1/1 [==============================] - 0s 334ms/step - loss: 0.3685 - accuracy: 0.8800\n",
      "Epoch 17/30\n",
      "1/1 [==============================] - 0s 258ms/step - loss: 0.2086 - accuracy: 0.9600\n",
      "Epoch 18/30\n",
      "1/1 [==============================] - 0s 252ms/step - loss: 0.2024 - accuracy: 0.8800\n",
      "Epoch 19/30\n",
      "1/1 [==============================] - 0s 259ms/step - loss: 0.3190 - accuracy: 0.8000\n",
      "Epoch 20/30\n",
      "1/1 [==============================] - 0s 256ms/step - loss: 0.1497 - accuracy: 0.9600\n",
      "Epoch 21/30\n",
      "1/1 [==============================] - 0s 264ms/step - loss: 0.2934 - accuracy: 0.9200\n",
      "Epoch 22/30\n",
      "1/1 [==============================] - 0s 262ms/step - loss: 0.1386 - accuracy: 0.9200\n",
      "Epoch 23/30\n",
      "1/1 [==============================] - 0s 336ms/step - loss: 0.2573 - accuracy: 0.8000\n",
      "Epoch 24/30\n",
      "1/1 [==============================] - 0s 242ms/step - loss: 0.0884 - accuracy: 0.9600\n",
      "Epoch 25/30\n",
      "1/1 [==============================] - 0s 268ms/step - loss: 0.2026 - accuracy: 0.9600\n",
      "Epoch 26/30\n",
      "1/1 [==============================] - 0s 264ms/step - loss: 0.0683 - accuracy: 0.9600\n",
      "Epoch 27/30\n",
      "1/1 [==============================] - 0s 255ms/step - loss: 0.1872 - accuracy: 0.9200\n",
      "Epoch 28/30\n",
      "1/1 [==============================] - 0s 337ms/step - loss: 0.0501 - accuracy: 1.0000\n",
      "Epoch 29/30\n",
      "1/1 [==============================] - 0s 274ms/step - loss: 0.1042 - accuracy: 0.9600\n",
      "Epoch 30/30\n",
      "1/1 [==============================] - 0s 263ms/step - loss: 0.0364 - accuracy: 0.9600\n"
     ]
    }
   ],
   "source": [
    "epochs = 30\n",
    "history = model.fit(\n",
    "  training_data,\n",
    "  # validation_data=validation_data,\n",
    "  epochs=epochs\n",
    ")"
   ]
  },
  {
   "cell_type": "code",
   "execution_count": 31,
   "id": "28158f7e-5863-4e04-b890-1cd00af60d1e",
   "metadata": {},
   "outputs": [
    {
     "name": "stdout",
     "output_type": "stream",
     "text": [
      "1/1 [==============================] - 0s 22ms/step\n",
      "[[9.9999166e-01 8.3227906e-06]]\n"
     ]
    }
   ],
   "source": [
    "vulpix = load_and_preprocess_image(\"./test_data/vulpix.png\")\n",
    "spheal = load_and_preprocess_image(\"./test_data/Spheal.jpg\")\n",
    "lapra = load_and_preprocess_image(\"./test_data/Lapra.png\")\n",
    "galoppa = load_and_preprocess_image(\"./test_data/galoppa.png\")\n",
    "jungglut = load_and_preprocess_image(\"./test_data/jungglut.png\")\n",
    "pokemon = lapra\n",
    "pokemon = tf.expand_dims(pokemon, axis=0)\n",
    "predicted_class = model.predict(pokemon)\n",
    "class_labels = [\"water\", \"fire\"]\n",
    "print(predicted_class)"
   ]
  },
  {
   "cell_type": "code",
   "execution_count": 32,
   "id": "aaf4c138-17ad-4bd4-a311-e88646ddf447",
   "metadata": {},
   "outputs": [
    {
     "data": {
      "text/plain": [
       "[<matplotlib.lines.Line2D at 0x7f6e9e7791d0>]"
      ]
     },
     "execution_count": 32,
     "metadata": {},
     "output_type": "execute_result"
    },
    {
     "data": {
      "image/png": "[encoded data removed]",
      "text/plain": [
       "<Figure size 640x480 with 1 Axes>"
      ]
     },
     "metadata": {},
     "output_type": "display_data"
    }
   ],
   "source": [
    "plt.plot(history.history['loss'])"
   ]
  },
  {
   "cell_type": "code",
   "execution_count": 112,
   "id": "edcece51-5df9-4e26-986c-671d90df9a0a",
   "metadata": {},
   "outputs": [
    {
     "name": "stderr",
     "output_type": "stream",
     "text": [
      "/opt/conda/lib/python3.11/site-packages/keras/src/engine/training.py:3079: UserWarning: You are saving your model as an HDF5 file via `model.save()`. This file format is considered legacy. We recommend using instead the native Keras format, e.g. `model.save('my_model.keras')`.\n",
      "  saving_api.save_model(\n"
     ]
    },
    {
     "name": "stdout",
     "output_type": "stream",
     "text": [
      "INFO:tensorflow:Assets written to: some_dir/assets\n"
     ]
    },
    {
     "name": "stderr",
     "output_type": "stream",
     "text": [
      "INFO:tensorflow:Assets written to: some_dir/assets\n"
     ]
    },
    {
     "name": "stdout",
     "output_type": "stream",
     "text": [
      "Saved artifact at 'some_dir'. The following endpoints are available:\n",
      "\n",
      "* Endpoint 'serve'\n",
      "  Args:\n",
      "    args_0: float32 Tensor, shape=(None, 224, 224, 3)\n",
      "  Returns:\n",
      "    float32 Tensor, shape=(None, 2)\n"
     ]
    }
   ],
   "source": [
    "model.save('my_model.keras') # generates keras format\n",
    "model.save('my_model.h5') # generates hdf5 format\n",
    "\n",
    "model.export('some_dir') # creates a SavedModel (for e.g. TF Serving)\n",
    "\n",
    "model.save_weights('some_dir') # saves only the weights of the model, not the model itself\n",
    "model.load_weights('some_dir') # restores the model from the wieghts\n",
    "\n",
    "new_model = tf.keras.models.load_model('my_model.keras') "
   ]
  },
  {
   "cell_type": "code",
   "execution_count": null,
   "id": "e14dae77-841a-496a-9122-e37731d8765c",
   "metadata": {},
   "outputs": [],
   "source": []
  }
 ],
 "metadata": {
  "kernelspec": {
   "display_name": "Python 3 (ipykernel)",
   "language": "python",
   "name": "python3"
  },
  "language_info": {
   "codemirror_mode": {
    "name": "ipython",
    "version": 3
   },
   "file_extension": ".py",
   "mimetype": "text/x-python",
   "name": "python",
   "nbconvert_exporter": "python",
   "pygments_lexer": "ipython3",
   "version": "3.11.6"
  }
 },
 "nbformat": 4,
 "nbformat_minor": 5
}
